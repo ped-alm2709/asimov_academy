{
 "cells": [
  {
   "cell_type": "code",
   "execution_count": 3,
   "id": "26fdaf74-4071-409f-97c5-430b0d37c5a3",
   "metadata": {},
   "outputs": [],
   "source": [
    "from numpy.random import randn\n",
    "import pandas as pd"
   ]
  },
  {
   "cell_type": "code",
   "execution_count": 4,
   "id": "55bed8a0-7616-4ecb-b8ac-f80b8f2b2011",
   "metadata": {},
   "outputs": [],
   "source": [
    "df = pd.DataFrame(randn(5, 4), index=['A', 'B', 'C', 'D', 'E'], columns='W X Y Z'.split())"
   ]
  },
  {
   "cell_type": "code",
   "execution_count": 5,
   "id": "5952a515-22de-4d8d-b3f2-ada165d86400",
   "metadata": {},
   "outputs": [
    {
     "data": {
      "text/html": [
       "<div>\n",
       "<style scoped>\n",
       "    .dataframe tbody tr th:only-of-type {\n",
       "        vertical-align: middle;\n",
       "    }\n",
       "\n",
       "    .dataframe tbody tr th {\n",
       "        vertical-align: top;\n",
       "    }\n",
       "\n",
       "    .dataframe thead th {\n",
       "        text-align: right;\n",
       "    }\n",
       "</style>\n",
       "<table border=\"1\" class=\"dataframe\">\n",
       "  <thead>\n",
       "    <tr style=\"text-align: right;\">\n",
       "      <th></th>\n",
       "      <th>W</th>\n",
       "      <th>X</th>\n",
       "      <th>Y</th>\n",
       "      <th>Z</th>\n",
       "    </tr>\n",
       "  </thead>\n",
       "  <tbody>\n",
       "    <tr>\n",
       "      <th>A</th>\n",
       "      <td>-0.325480</td>\n",
       "      <td>0.702130</td>\n",
       "      <td>0.294014</td>\n",
       "      <td>-0.736659</td>\n",
       "    </tr>\n",
       "    <tr>\n",
       "      <th>B</th>\n",
       "      <td>0.527959</td>\n",
       "      <td>-0.335916</td>\n",
       "      <td>-0.982385</td>\n",
       "      <td>0.380385</td>\n",
       "    </tr>\n",
       "    <tr>\n",
       "      <th>C</th>\n",
       "      <td>-1.671721</td>\n",
       "      <td>0.694427</td>\n",
       "      <td>0.234183</td>\n",
       "      <td>1.577481</td>\n",
       "    </tr>\n",
       "    <tr>\n",
       "      <th>D</th>\n",
       "      <td>0.456089</td>\n",
       "      <td>0.068724</td>\n",
       "      <td>0.443505</td>\n",
       "      <td>-0.292153</td>\n",
       "    </tr>\n",
       "    <tr>\n",
       "      <th>E</th>\n",
       "      <td>-0.763275</td>\n",
       "      <td>0.549041</td>\n",
       "      <td>0.698142</td>\n",
       "      <td>0.698892</td>\n",
       "    </tr>\n",
       "  </tbody>\n",
       "</table>\n",
       "</div>"
      ],
      "text/plain": [
       "          W         X         Y         Z\n",
       "A -0.325480  0.702130  0.294014 -0.736659\n",
       "B  0.527959 -0.335916 -0.982385  0.380385\n",
       "C -1.671721  0.694427  0.234183  1.577481\n",
       "D  0.456089  0.068724  0.443505 -0.292153\n",
       "E -0.763275  0.549041  0.698142  0.698892"
      ]
     },
     "execution_count": 5,
     "metadata": {},
     "output_type": "execute_result"
    }
   ],
   "source": [
    "df"
   ]
  },
  {
   "cell_type": "code",
   "execution_count": 6,
   "id": "05028d69-5123-417c-9ab7-a08a6c32bbaa",
   "metadata": {},
   "outputs": [
    {
     "data": {
      "text/plain": [
       "pandas.core.frame.DataFrame"
      ]
     },
     "execution_count": 6,
     "metadata": {},
     "output_type": "execute_result"
    }
   ],
   "source": [
    "type(df)"
   ]
  },
  {
   "cell_type": "code",
   "execution_count": 7,
   "id": "ff730908-956f-4ccb-b85b-ea4122f6ebad",
   "metadata": {},
   "outputs": [
    {
     "data": {
      "text/plain": [
       "A   -0.325480\n",
       "B    0.527959\n",
       "C   -1.671721\n",
       "D    0.456089\n",
       "E   -0.763275\n",
       "Name: W, dtype: float64"
      ]
     },
     "execution_count": 7,
     "metadata": {},
     "output_type": "execute_result"
    }
   ],
   "source": [
    "df['W']"
   ]
  },
  {
   "cell_type": "code",
   "execution_count": 8,
   "id": "d23e7794-7d6f-4f9c-8e5e-4490bda7b1eb",
   "metadata": {},
   "outputs": [
    {
     "data": {
      "text/plain": [
       "pandas.core.series.Series"
      ]
     },
     "execution_count": 8,
     "metadata": {},
     "output_type": "execute_result"
    }
   ],
   "source": [
    "type(df['W'])"
   ]
  },
  {
   "cell_type": "code",
   "execution_count": 9,
   "id": "53df9511-662a-4ee9-843c-a145d869d4fd",
   "metadata": {},
   "outputs": [
    {
     "data": {
      "text/html": [
       "<div>\n",
       "<style scoped>\n",
       "    .dataframe tbody tr th:only-of-type {\n",
       "        vertical-align: middle;\n",
       "    }\n",
       "\n",
       "    .dataframe tbody tr th {\n",
       "        vertical-align: top;\n",
       "    }\n",
       "\n",
       "    .dataframe thead th {\n",
       "        text-align: right;\n",
       "    }\n",
       "</style>\n",
       "<table border=\"1\" class=\"dataframe\">\n",
       "  <thead>\n",
       "    <tr style=\"text-align: right;\">\n",
       "      <th></th>\n",
       "      <th>W</th>\n",
       "    </tr>\n",
       "  </thead>\n",
       "  <tbody>\n",
       "    <tr>\n",
       "      <th>A</th>\n",
       "      <td>-0.325480</td>\n",
       "    </tr>\n",
       "    <tr>\n",
       "      <th>B</th>\n",
       "      <td>0.527959</td>\n",
       "    </tr>\n",
       "    <tr>\n",
       "      <th>C</th>\n",
       "      <td>-1.671721</td>\n",
       "    </tr>\n",
       "    <tr>\n",
       "      <th>D</th>\n",
       "      <td>0.456089</td>\n",
       "    </tr>\n",
       "    <tr>\n",
       "      <th>E</th>\n",
       "      <td>-0.763275</td>\n",
       "    </tr>\n",
       "  </tbody>\n",
       "</table>\n",
       "</div>"
      ],
      "text/plain": [
       "          W\n",
       "A -0.325480\n",
       "B  0.527959\n",
       "C -1.671721\n",
       "D  0.456089\n",
       "E -0.763275"
      ]
     },
     "execution_count": 9,
     "metadata": {},
     "output_type": "execute_result"
    }
   ],
   "source": [
    "df[['W']]"
   ]
  },
  {
   "cell_type": "code",
   "execution_count": 10,
   "id": "d97b7dcf-98dd-4065-8bdf-565dd2f725e9",
   "metadata": {},
   "outputs": [
    {
     "data": {
      "text/html": [
       "<div>\n",
       "<style scoped>\n",
       "    .dataframe tbody tr th:only-of-type {\n",
       "        vertical-align: middle;\n",
       "    }\n",
       "\n",
       "    .dataframe tbody tr th {\n",
       "        vertical-align: top;\n",
       "    }\n",
       "\n",
       "    .dataframe thead th {\n",
       "        text-align: right;\n",
       "    }\n",
       "</style>\n",
       "<table border=\"1\" class=\"dataframe\">\n",
       "  <thead>\n",
       "    <tr style=\"text-align: right;\">\n",
       "      <th></th>\n",
       "      <th>W</th>\n",
       "      <th>X</th>\n",
       "    </tr>\n",
       "  </thead>\n",
       "  <tbody>\n",
       "    <tr>\n",
       "      <th>A</th>\n",
       "      <td>-0.325480</td>\n",
       "      <td>0.702130</td>\n",
       "    </tr>\n",
       "    <tr>\n",
       "      <th>B</th>\n",
       "      <td>0.527959</td>\n",
       "      <td>-0.335916</td>\n",
       "    </tr>\n",
       "    <tr>\n",
       "      <th>C</th>\n",
       "      <td>-1.671721</td>\n",
       "      <td>0.694427</td>\n",
       "    </tr>\n",
       "    <tr>\n",
       "      <th>D</th>\n",
       "      <td>0.456089</td>\n",
       "      <td>0.068724</td>\n",
       "    </tr>\n",
       "    <tr>\n",
       "      <th>E</th>\n",
       "      <td>-0.763275</td>\n",
       "      <td>0.549041</td>\n",
       "    </tr>\n",
       "  </tbody>\n",
       "</table>\n",
       "</div>"
      ],
      "text/plain": [
       "          W         X\n",
       "A -0.325480  0.702130\n",
       "B  0.527959 -0.335916\n",
       "C -1.671721  0.694427\n",
       "D  0.456089  0.068724\n",
       "E -0.763275  0.549041"
      ]
     },
     "execution_count": 10,
     "metadata": {},
     "output_type": "execute_result"
    }
   ],
   "source": [
    "df[['W', 'X']]"
   ]
  },
  {
   "cell_type": "code",
   "execution_count": 11,
   "id": "e9c1482a-89b4-4f24-871f-57bb649b064c",
   "metadata": {},
   "outputs": [],
   "source": [
    "df['new'] = df['W']"
   ]
  },
  {
   "cell_type": "code",
   "execution_count": 12,
   "id": "74583def-eac0-4318-83c4-a0af4860eae5",
   "metadata": {},
   "outputs": [
    {
     "data": {
      "text/plain": [
       "A   -0.325480\n",
       "B    0.527959\n",
       "C   -1.671721\n",
       "D    0.456089\n",
       "E   -0.763275\n",
       "Name: new, dtype: float64"
      ]
     },
     "execution_count": 12,
     "metadata": {},
     "output_type": "execute_result"
    }
   ],
   "source": [
    "df['new']"
   ]
  },
  {
   "cell_type": "code",
   "execution_count": 13,
   "id": "8f8e44ca-d69e-4ebf-9076-fc86f5ce08b5",
   "metadata": {},
   "outputs": [
    {
     "data": {
      "text/html": [
       "<div>\n",
       "<style scoped>\n",
       "    .dataframe tbody tr th:only-of-type {\n",
       "        vertical-align: middle;\n",
       "    }\n",
       "\n",
       "    .dataframe tbody tr th {\n",
       "        vertical-align: top;\n",
       "    }\n",
       "\n",
       "    .dataframe thead th {\n",
       "        text-align: right;\n",
       "    }\n",
       "</style>\n",
       "<table border=\"1\" class=\"dataframe\">\n",
       "  <thead>\n",
       "    <tr style=\"text-align: right;\">\n",
       "      <th></th>\n",
       "      <th>W</th>\n",
       "      <th>X</th>\n",
       "      <th>Y</th>\n",
       "      <th>Z</th>\n",
       "      <th>new</th>\n",
       "    </tr>\n",
       "  </thead>\n",
       "  <tbody>\n",
       "    <tr>\n",
       "      <th>A</th>\n",
       "      <td>-0.325480</td>\n",
       "      <td>0.702130</td>\n",
       "      <td>0.294014</td>\n",
       "      <td>-0.736659</td>\n",
       "      <td>-0.325480</td>\n",
       "    </tr>\n",
       "    <tr>\n",
       "      <th>B</th>\n",
       "      <td>0.527959</td>\n",
       "      <td>-0.335916</td>\n",
       "      <td>-0.982385</td>\n",
       "      <td>0.380385</td>\n",
       "      <td>0.527959</td>\n",
       "    </tr>\n",
       "    <tr>\n",
       "      <th>C</th>\n",
       "      <td>-1.671721</td>\n",
       "      <td>0.694427</td>\n",
       "      <td>0.234183</td>\n",
       "      <td>1.577481</td>\n",
       "      <td>-1.671721</td>\n",
       "    </tr>\n",
       "    <tr>\n",
       "      <th>D</th>\n",
       "      <td>0.456089</td>\n",
       "      <td>0.068724</td>\n",
       "      <td>0.443505</td>\n",
       "      <td>-0.292153</td>\n",
       "      <td>0.456089</td>\n",
       "    </tr>\n",
       "    <tr>\n",
       "      <th>E</th>\n",
       "      <td>-0.763275</td>\n",
       "      <td>0.549041</td>\n",
       "      <td>0.698142</td>\n",
       "      <td>0.698892</td>\n",
       "      <td>-0.763275</td>\n",
       "    </tr>\n",
       "  </tbody>\n",
       "</table>\n",
       "</div>"
      ],
      "text/plain": [
       "          W         X         Y         Z       new\n",
       "A -0.325480  0.702130  0.294014 -0.736659 -0.325480\n",
       "B  0.527959 -0.335916 -0.982385  0.380385  0.527959\n",
       "C -1.671721  0.694427  0.234183  1.577481 -1.671721\n",
       "D  0.456089  0.068724  0.443505 -0.292153  0.456089\n",
       "E -0.763275  0.549041  0.698142  0.698892 -0.763275"
      ]
     },
     "execution_count": 13,
     "metadata": {},
     "output_type": "execute_result"
    }
   ],
   "source": [
    "df"
   ]
  },
  {
   "cell_type": "code",
   "execution_count": 14,
   "id": "659c42f3-5961-466a-a9d8-6d9c06d5164f",
   "metadata": {},
   "outputs": [],
   "source": [
    "df['new'] = df['W'] + df['X']"
   ]
  },
  {
   "cell_type": "code",
   "execution_count": 15,
   "id": "4f137f42-2413-4949-97f0-a8c524a63ef7",
   "metadata": {},
   "outputs": [
    {
     "data": {
      "text/plain": [
       "A    0.376649\n",
       "B    0.192043\n",
       "C   -0.977293\n",
       "D    0.524813\n",
       "E   -0.214234\n",
       "Name: new, dtype: float64"
      ]
     },
     "execution_count": 15,
     "metadata": {},
     "output_type": "execute_result"
    }
   ],
   "source": [
    "df['new']"
   ]
  },
  {
   "cell_type": "code",
   "execution_count": 16,
   "id": "d07d0bb5-6a4e-40b0-b253-08adecd2373b",
   "metadata": {},
   "outputs": [
    {
     "data": {
      "text/html": [
       "<div>\n",
       "<style scoped>\n",
       "    .dataframe tbody tr th:only-of-type {\n",
       "        vertical-align: middle;\n",
       "    }\n",
       "\n",
       "    .dataframe tbody tr th {\n",
       "        vertical-align: top;\n",
       "    }\n",
       "\n",
       "    .dataframe thead th {\n",
       "        text-align: right;\n",
       "    }\n",
       "</style>\n",
       "<table border=\"1\" class=\"dataframe\">\n",
       "  <thead>\n",
       "    <tr style=\"text-align: right;\">\n",
       "      <th></th>\n",
       "      <th>W</th>\n",
       "      <th>X</th>\n",
       "      <th>Y</th>\n",
       "      <th>Z</th>\n",
       "    </tr>\n",
       "  </thead>\n",
       "  <tbody>\n",
       "    <tr>\n",
       "      <th>A</th>\n",
       "      <td>-0.325480</td>\n",
       "      <td>0.702130</td>\n",
       "      <td>0.294014</td>\n",
       "      <td>-0.736659</td>\n",
       "    </tr>\n",
       "    <tr>\n",
       "      <th>B</th>\n",
       "      <td>0.527959</td>\n",
       "      <td>-0.335916</td>\n",
       "      <td>-0.982385</td>\n",
       "      <td>0.380385</td>\n",
       "    </tr>\n",
       "    <tr>\n",
       "      <th>C</th>\n",
       "      <td>-1.671721</td>\n",
       "      <td>0.694427</td>\n",
       "      <td>0.234183</td>\n",
       "      <td>1.577481</td>\n",
       "    </tr>\n",
       "    <tr>\n",
       "      <th>D</th>\n",
       "      <td>0.456089</td>\n",
       "      <td>0.068724</td>\n",
       "      <td>0.443505</td>\n",
       "      <td>-0.292153</td>\n",
       "    </tr>\n",
       "    <tr>\n",
       "      <th>E</th>\n",
       "      <td>-0.763275</td>\n",
       "      <td>0.549041</td>\n",
       "      <td>0.698142</td>\n",
       "      <td>0.698892</td>\n",
       "    </tr>\n",
       "  </tbody>\n",
       "</table>\n",
       "</div>"
      ],
      "text/plain": [
       "          W         X         Y         Z\n",
       "A -0.325480  0.702130  0.294014 -0.736659\n",
       "B  0.527959 -0.335916 -0.982385  0.380385\n",
       "C -1.671721  0.694427  0.234183  1.577481\n",
       "D  0.456089  0.068724  0.443505 -0.292153\n",
       "E -0.763275  0.549041  0.698142  0.698892"
      ]
     },
     "execution_count": 16,
     "metadata": {},
     "output_type": "execute_result"
    }
   ],
   "source": [
    " df.drop('new', axis=1)"
   ]
  },
  {
   "cell_type": "code",
   "execution_count": 17,
   "id": "5861ab59-c9a4-4003-ad3d-02999c061474",
   "metadata": {},
   "outputs": [
    {
     "data": {
      "text/html": [
       "<div>\n",
       "<style scoped>\n",
       "    .dataframe tbody tr th:only-of-type {\n",
       "        vertical-align: middle;\n",
       "    }\n",
       "\n",
       "    .dataframe tbody tr th {\n",
       "        vertical-align: top;\n",
       "    }\n",
       "\n",
       "    .dataframe thead th {\n",
       "        text-align: right;\n",
       "    }\n",
       "</style>\n",
       "<table border=\"1\" class=\"dataframe\">\n",
       "  <thead>\n",
       "    <tr style=\"text-align: right;\">\n",
       "      <th></th>\n",
       "      <th>W</th>\n",
       "      <th>X</th>\n",
       "      <th>Y</th>\n",
       "      <th>Z</th>\n",
       "      <th>new</th>\n",
       "    </tr>\n",
       "  </thead>\n",
       "  <tbody>\n",
       "    <tr>\n",
       "      <th>A</th>\n",
       "      <td>-0.325480</td>\n",
       "      <td>0.702130</td>\n",
       "      <td>0.294014</td>\n",
       "      <td>-0.736659</td>\n",
       "      <td>0.376649</td>\n",
       "    </tr>\n",
       "    <tr>\n",
       "      <th>B</th>\n",
       "      <td>0.527959</td>\n",
       "      <td>-0.335916</td>\n",
       "      <td>-0.982385</td>\n",
       "      <td>0.380385</td>\n",
       "      <td>0.192043</td>\n",
       "    </tr>\n",
       "    <tr>\n",
       "      <th>C</th>\n",
       "      <td>-1.671721</td>\n",
       "      <td>0.694427</td>\n",
       "      <td>0.234183</td>\n",
       "      <td>1.577481</td>\n",
       "      <td>-0.977293</td>\n",
       "    </tr>\n",
       "    <tr>\n",
       "      <th>D</th>\n",
       "      <td>0.456089</td>\n",
       "      <td>0.068724</td>\n",
       "      <td>0.443505</td>\n",
       "      <td>-0.292153</td>\n",
       "      <td>0.524813</td>\n",
       "    </tr>\n",
       "    <tr>\n",
       "      <th>E</th>\n",
       "      <td>-0.763275</td>\n",
       "      <td>0.549041</td>\n",
       "      <td>0.698142</td>\n",
       "      <td>0.698892</td>\n",
       "      <td>-0.214234</td>\n",
       "    </tr>\n",
       "  </tbody>\n",
       "</table>\n",
       "</div>"
      ],
      "text/plain": [
       "          W         X         Y         Z       new\n",
       "A -0.325480  0.702130  0.294014 -0.736659  0.376649\n",
       "B  0.527959 -0.335916 -0.982385  0.380385  0.192043\n",
       "C -1.671721  0.694427  0.234183  1.577481 -0.977293\n",
       "D  0.456089  0.068724  0.443505 -0.292153  0.524813\n",
       "E -0.763275  0.549041  0.698142  0.698892 -0.214234"
      ]
     },
     "execution_count": 17,
     "metadata": {},
     "output_type": "execute_result"
    }
   ],
   "source": [
    "df"
   ]
  },
  {
   "cell_type": "code",
   "execution_count": 18,
   "id": "e9c31bee-d7eb-4dce-831d-ac7a0dc33521",
   "metadata": {},
   "outputs": [],
   "source": [
    "df2 = df.drop('new', axis=1)"
   ]
  },
  {
   "cell_type": "code",
   "execution_count": 19,
   "id": "19cf3720-cd11-4216-aac0-e3bf0ad68c2c",
   "metadata": {},
   "outputs": [
    {
     "data": {
      "text/html": [
       "<div>\n",
       "<style scoped>\n",
       "    .dataframe tbody tr th:only-of-type {\n",
       "        vertical-align: middle;\n",
       "    }\n",
       "\n",
       "    .dataframe tbody tr th {\n",
       "        vertical-align: top;\n",
       "    }\n",
       "\n",
       "    .dataframe thead th {\n",
       "        text-align: right;\n",
       "    }\n",
       "</style>\n",
       "<table border=\"1\" class=\"dataframe\">\n",
       "  <thead>\n",
       "    <tr style=\"text-align: right;\">\n",
       "      <th></th>\n",
       "      <th>W</th>\n",
       "      <th>X</th>\n",
       "      <th>Y</th>\n",
       "      <th>Z</th>\n",
       "    </tr>\n",
       "  </thead>\n",
       "  <tbody>\n",
       "    <tr>\n",
       "      <th>A</th>\n",
       "      <td>-0.325480</td>\n",
       "      <td>0.702130</td>\n",
       "      <td>0.294014</td>\n",
       "      <td>-0.736659</td>\n",
       "    </tr>\n",
       "    <tr>\n",
       "      <th>B</th>\n",
       "      <td>0.527959</td>\n",
       "      <td>-0.335916</td>\n",
       "      <td>-0.982385</td>\n",
       "      <td>0.380385</td>\n",
       "    </tr>\n",
       "    <tr>\n",
       "      <th>C</th>\n",
       "      <td>-1.671721</td>\n",
       "      <td>0.694427</td>\n",
       "      <td>0.234183</td>\n",
       "      <td>1.577481</td>\n",
       "    </tr>\n",
       "    <tr>\n",
       "      <th>D</th>\n",
       "      <td>0.456089</td>\n",
       "      <td>0.068724</td>\n",
       "      <td>0.443505</td>\n",
       "      <td>-0.292153</td>\n",
       "    </tr>\n",
       "    <tr>\n",
       "      <th>E</th>\n",
       "      <td>-0.763275</td>\n",
       "      <td>0.549041</td>\n",
       "      <td>0.698142</td>\n",
       "      <td>0.698892</td>\n",
       "    </tr>\n",
       "  </tbody>\n",
       "</table>\n",
       "</div>"
      ],
      "text/plain": [
       "          W         X         Y         Z\n",
       "A -0.325480  0.702130  0.294014 -0.736659\n",
       "B  0.527959 -0.335916 -0.982385  0.380385\n",
       "C -1.671721  0.694427  0.234183  1.577481\n",
       "D  0.456089  0.068724  0.443505 -0.292153\n",
       "E -0.763275  0.549041  0.698142  0.698892"
      ]
     },
     "execution_count": 19,
     "metadata": {},
     "output_type": "execute_result"
    }
   ],
   "source": [
    "df2"
   ]
  },
  {
   "cell_type": "code",
   "execution_count": 20,
   "id": "bf8e7601-58b1-4924-b4bc-f9e4a5b79465",
   "metadata": {},
   "outputs": [],
   "source": [
    "df.drop('new', axis=1, inplace=True)"
   ]
  },
  {
   "cell_type": "code",
   "execution_count": 21,
   "id": "33047577-d0d9-4d01-8f46-452c59bcebf5",
   "metadata": {},
   "outputs": [
    {
     "data": {
      "text/html": [
       "<div>\n",
       "<style scoped>\n",
       "    .dataframe tbody tr th:only-of-type {\n",
       "        vertical-align: middle;\n",
       "    }\n",
       "\n",
       "    .dataframe tbody tr th {\n",
       "        vertical-align: top;\n",
       "    }\n",
       "\n",
       "    .dataframe thead th {\n",
       "        text-align: right;\n",
       "    }\n",
       "</style>\n",
       "<table border=\"1\" class=\"dataframe\">\n",
       "  <thead>\n",
       "    <tr style=\"text-align: right;\">\n",
       "      <th></th>\n",
       "      <th>W</th>\n",
       "      <th>X</th>\n",
       "      <th>Y</th>\n",
       "      <th>Z</th>\n",
       "    </tr>\n",
       "  </thead>\n",
       "  <tbody>\n",
       "    <tr>\n",
       "      <th>A</th>\n",
       "      <td>-0.325480</td>\n",
       "      <td>0.702130</td>\n",
       "      <td>0.294014</td>\n",
       "      <td>-0.736659</td>\n",
       "    </tr>\n",
       "    <tr>\n",
       "      <th>B</th>\n",
       "      <td>0.527959</td>\n",
       "      <td>-0.335916</td>\n",
       "      <td>-0.982385</td>\n",
       "      <td>0.380385</td>\n",
       "    </tr>\n",
       "    <tr>\n",
       "      <th>C</th>\n",
       "      <td>-1.671721</td>\n",
       "      <td>0.694427</td>\n",
       "      <td>0.234183</td>\n",
       "      <td>1.577481</td>\n",
       "    </tr>\n",
       "    <tr>\n",
       "      <th>D</th>\n",
       "      <td>0.456089</td>\n",
       "      <td>0.068724</td>\n",
       "      <td>0.443505</td>\n",
       "      <td>-0.292153</td>\n",
       "    </tr>\n",
       "    <tr>\n",
       "      <th>E</th>\n",
       "      <td>-0.763275</td>\n",
       "      <td>0.549041</td>\n",
       "      <td>0.698142</td>\n",
       "      <td>0.698892</td>\n",
       "    </tr>\n",
       "  </tbody>\n",
       "</table>\n",
       "</div>"
      ],
      "text/plain": [
       "          W         X         Y         Z\n",
       "A -0.325480  0.702130  0.294014 -0.736659\n",
       "B  0.527959 -0.335916 -0.982385  0.380385\n",
       "C -1.671721  0.694427  0.234183  1.577481\n",
       "D  0.456089  0.068724  0.443505 -0.292153\n",
       "E -0.763275  0.549041  0.698142  0.698892"
      ]
     },
     "execution_count": 21,
     "metadata": {},
     "output_type": "execute_result"
    }
   ],
   "source": [
    "df"
   ]
  },
  {
   "cell_type": "code",
   "execution_count": 22,
   "id": "9d1dade5-bd1c-4a83-ac7d-cac2fc61dcae",
   "metadata": {},
   "outputs": [
    {
     "data": {
      "text/plain": [
       "W   -0.325480\n",
       "X    0.702130\n",
       "Y    0.294014\n",
       "Z   -0.736659\n",
       "Name: A, dtype: float64"
      ]
     },
     "execution_count": 22,
     "metadata": {},
     "output_type": "execute_result"
    }
   ],
   "source": [
    "df.loc['A']"
   ]
  },
  {
   "cell_type": "code",
   "execution_count": 23,
   "id": "643b405f-792c-4573-9b28-43b8af6834c6",
   "metadata": {},
   "outputs": [
    {
     "data": {
      "text/html": [
       "<div>\n",
       "<style scoped>\n",
       "    .dataframe tbody tr th:only-of-type {\n",
       "        vertical-align: middle;\n",
       "    }\n",
       "\n",
       "    .dataframe tbody tr th {\n",
       "        vertical-align: top;\n",
       "    }\n",
       "\n",
       "    .dataframe thead th {\n",
       "        text-align: right;\n",
       "    }\n",
       "</style>\n",
       "<table border=\"1\" class=\"dataframe\">\n",
       "  <thead>\n",
       "    <tr style=\"text-align: right;\">\n",
       "      <th></th>\n",
       "      <th>W</th>\n",
       "      <th>X</th>\n",
       "      <th>Y</th>\n",
       "      <th>Z</th>\n",
       "    </tr>\n",
       "  </thead>\n",
       "  <tbody>\n",
       "    <tr>\n",
       "      <th>A</th>\n",
       "      <td>-0.325480</td>\n",
       "      <td>0.702130</td>\n",
       "      <td>0.294014</td>\n",
       "      <td>-0.736659</td>\n",
       "    </tr>\n",
       "    <tr>\n",
       "      <th>B</th>\n",
       "      <td>0.527959</td>\n",
       "      <td>-0.335916</td>\n",
       "      <td>-0.982385</td>\n",
       "      <td>0.380385</td>\n",
       "    </tr>\n",
       "  </tbody>\n",
       "</table>\n",
       "</div>"
      ],
      "text/plain": [
       "          W         X         Y         Z\n",
       "A -0.325480  0.702130  0.294014 -0.736659\n",
       "B  0.527959 -0.335916 -0.982385  0.380385"
      ]
     },
     "execution_count": 23,
     "metadata": {},
     "output_type": "execute_result"
    }
   ],
   "source": [
    "df.loc[['A', 'B']]"
   ]
  },
  {
   "cell_type": "code",
   "execution_count": 24,
   "id": "2e6c6afb-72b9-45c3-9c19-f77bd5d1cf47",
   "metadata": {},
   "outputs": [
    {
     "data": {
      "text/plain": [
       "0.29401444020792017"
      ]
     },
     "execution_count": 24,
     "metadata": {},
     "output_type": "execute_result"
    }
   ],
   "source": [
    "df.iloc[0, 2]"
   ]
  },
  {
   "cell_type": "code",
   "execution_count": 28,
   "id": "bcd9b147-1617-470a-9dd1-2dd9751d10ef",
   "metadata": {},
   "outputs": [
    {
     "data": {
      "text/plain": [
       "A   -0.325480\n",
       "B    0.527959\n",
       "Name: W, dtype: float64"
      ]
     },
     "execution_count": 28,
     "metadata": {},
     "output_type": "execute_result"
    }
   ],
   "source": [
    "df.loc[['A', 'B'], 'W']"
   ]
  },
  {
   "cell_type": "code",
   "execution_count": 27,
   "id": "633be43b-0e6c-46d8-9cb2-1903aadbf1cf",
   "metadata": {},
   "outputs": [
    {
     "data": {
      "text/html": [
       "<div>\n",
       "<style scoped>\n",
       "    .dataframe tbody tr th:only-of-type {\n",
       "        vertical-align: middle;\n",
       "    }\n",
       "\n",
       "    .dataframe tbody tr th {\n",
       "        vertical-align: top;\n",
       "    }\n",
       "\n",
       "    .dataframe thead th {\n",
       "        text-align: right;\n",
       "    }\n",
       "</style>\n",
       "<table border=\"1\" class=\"dataframe\">\n",
       "  <thead>\n",
       "    <tr style=\"text-align: right;\">\n",
       "      <th></th>\n",
       "      <th>W</th>\n",
       "    </tr>\n",
       "  </thead>\n",
       "  <tbody>\n",
       "    <tr>\n",
       "      <th>A</th>\n",
       "      <td>-0.325480</td>\n",
       "    </tr>\n",
       "    <tr>\n",
       "      <th>B</th>\n",
       "      <td>0.527959</td>\n",
       "    </tr>\n",
       "  </tbody>\n",
       "</table>\n",
       "</div>"
      ],
      "text/plain": [
       "          W\n",
       "A -0.325480\n",
       "B  0.527959"
      ]
     },
     "execution_count": 27,
     "metadata": {},
     "output_type": "execute_result"
    }
   ],
   "source": [
    "df.loc[['A', 'B'], ['W']]"
   ]
  },
  {
   "cell_type": "code",
   "execution_count": 29,
   "id": "3d1d6045-88c4-4f0c-8b34-4f88f199ae80",
   "metadata": {},
   "outputs": [
    {
     "data": {
      "text/html": [
       "<div>\n",
       "<style scoped>\n",
       "    .dataframe tbody tr th:only-of-type {\n",
       "        vertical-align: middle;\n",
       "    }\n",
       "\n",
       "    .dataframe tbody tr th {\n",
       "        vertical-align: top;\n",
       "    }\n",
       "\n",
       "    .dataframe thead th {\n",
       "        text-align: right;\n",
       "    }\n",
       "</style>\n",
       "<table border=\"1\" class=\"dataframe\">\n",
       "  <thead>\n",
       "    <tr style=\"text-align: right;\">\n",
       "      <th></th>\n",
       "      <th>X</th>\n",
       "      <th>Y</th>\n",
       "      <th>Z</th>\n",
       "    </tr>\n",
       "  </thead>\n",
       "  <tbody>\n",
       "    <tr>\n",
       "      <th>A</th>\n",
       "      <td>0.702130</td>\n",
       "      <td>0.294014</td>\n",
       "      <td>-0.736659</td>\n",
       "    </tr>\n",
       "    <tr>\n",
       "      <th>B</th>\n",
       "      <td>-0.335916</td>\n",
       "      <td>-0.982385</td>\n",
       "      <td>0.380385</td>\n",
       "    </tr>\n",
       "    <tr>\n",
       "      <th>C</th>\n",
       "      <td>0.694427</td>\n",
       "      <td>0.234183</td>\n",
       "      <td>1.577481</td>\n",
       "    </tr>\n",
       "    <tr>\n",
       "      <th>D</th>\n",
       "      <td>0.068724</td>\n",
       "      <td>0.443505</td>\n",
       "      <td>-0.292153</td>\n",
       "    </tr>\n",
       "  </tbody>\n",
       "</table>\n",
       "</div>"
      ],
      "text/plain": [
       "          X         Y         Z\n",
       "A  0.702130  0.294014 -0.736659\n",
       "B -0.335916 -0.982385  0.380385\n",
       "C  0.694427  0.234183  1.577481\n",
       "D  0.068724  0.443505 -0.292153"
      ]
     },
     "execution_count": 29,
     "metadata": {},
     "output_type": "execute_result"
    }
   ],
   "source": [
    "df.iloc[:-1, 1:4]"
   ]
  },
  {
   "cell_type": "code",
   "execution_count": 30,
   "id": "7466d725-c756-4b7f-b33e-7bc0e347e38b",
   "metadata": {},
   "outputs": [
    {
     "data": {
      "text/html": [
       "<div>\n",
       "<style scoped>\n",
       "    .dataframe tbody tr th:only-of-type {\n",
       "        vertical-align: middle;\n",
       "    }\n",
       "\n",
       "    .dataframe tbody tr th {\n",
       "        vertical-align: top;\n",
       "    }\n",
       "\n",
       "    .dataframe thead th {\n",
       "        text-align: right;\n",
       "    }\n",
       "</style>\n",
       "<table border=\"1\" class=\"dataframe\">\n",
       "  <thead>\n",
       "    <tr style=\"text-align: right;\">\n",
       "      <th></th>\n",
       "      <th>W</th>\n",
       "      <th>X</th>\n",
       "      <th>Y</th>\n",
       "      <th>Z</th>\n",
       "    </tr>\n",
       "  </thead>\n",
       "  <tbody>\n",
       "    <tr>\n",
       "      <th>A</th>\n",
       "      <td>-0.325480</td>\n",
       "      <td>0.702130</td>\n",
       "      <td>0.294014</td>\n",
       "      <td>-0.736659</td>\n",
       "    </tr>\n",
       "    <tr>\n",
       "      <th>B</th>\n",
       "      <td>0.527959</td>\n",
       "      <td>-0.335916</td>\n",
       "      <td>-0.982385</td>\n",
       "      <td>0.380385</td>\n",
       "    </tr>\n",
       "    <tr>\n",
       "      <th>C</th>\n",
       "      <td>-1.671721</td>\n",
       "      <td>0.694427</td>\n",
       "      <td>0.234183</td>\n",
       "      <td>1.577481</td>\n",
       "    </tr>\n",
       "    <tr>\n",
       "      <th>D</th>\n",
       "      <td>0.456089</td>\n",
       "      <td>0.068724</td>\n",
       "      <td>0.443505</td>\n",
       "      <td>-0.292153</td>\n",
       "    </tr>\n",
       "    <tr>\n",
       "      <th>E</th>\n",
       "      <td>-0.763275</td>\n",
       "      <td>0.549041</td>\n",
       "      <td>0.698142</td>\n",
       "      <td>0.698892</td>\n",
       "    </tr>\n",
       "  </tbody>\n",
       "</table>\n",
       "</div>"
      ],
      "text/plain": [
       "          W         X         Y         Z\n",
       "A -0.325480  0.702130  0.294014 -0.736659\n",
       "B  0.527959 -0.335916 -0.982385  0.380385\n",
       "C -1.671721  0.694427  0.234183  1.577481\n",
       "D  0.456089  0.068724  0.443505 -0.292153\n",
       "E -0.763275  0.549041  0.698142  0.698892"
      ]
     },
     "execution_count": 30,
     "metadata": {},
     "output_type": "execute_result"
    }
   ],
   "source": [
    "df"
   ]
  },
  {
   "cell_type": "code",
   "execution_count": 31,
   "id": "45592103-fb60-4ec5-89a7-5cb3481adacb",
   "metadata": {},
   "outputs": [
    {
     "data": {
      "text/html": [
       "<div>\n",
       "<style scoped>\n",
       "    .dataframe tbody tr th:only-of-type {\n",
       "        vertical-align: middle;\n",
       "    }\n",
       "\n",
       "    .dataframe tbody tr th {\n",
       "        vertical-align: top;\n",
       "    }\n",
       "\n",
       "    .dataframe thead th {\n",
       "        text-align: right;\n",
       "    }\n",
       "</style>\n",
       "<table border=\"1\" class=\"dataframe\">\n",
       "  <thead>\n",
       "    <tr style=\"text-align: right;\">\n",
       "      <th></th>\n",
       "      <th>W</th>\n",
       "      <th>X</th>\n",
       "      <th>Y</th>\n",
       "      <th>Z</th>\n",
       "    </tr>\n",
       "  </thead>\n",
       "  <tbody>\n",
       "    <tr>\n",
       "      <th>A</th>\n",
       "      <td>False</td>\n",
       "      <td>True</td>\n",
       "      <td>True</td>\n",
       "      <td>False</td>\n",
       "    </tr>\n",
       "    <tr>\n",
       "      <th>B</th>\n",
       "      <td>True</td>\n",
       "      <td>False</td>\n",
       "      <td>False</td>\n",
       "      <td>True</td>\n",
       "    </tr>\n",
       "    <tr>\n",
       "      <th>C</th>\n",
       "      <td>False</td>\n",
       "      <td>True</td>\n",
       "      <td>True</td>\n",
       "      <td>True</td>\n",
       "    </tr>\n",
       "    <tr>\n",
       "      <th>D</th>\n",
       "      <td>True</td>\n",
       "      <td>True</td>\n",
       "      <td>True</td>\n",
       "      <td>False</td>\n",
       "    </tr>\n",
       "    <tr>\n",
       "      <th>E</th>\n",
       "      <td>False</td>\n",
       "      <td>True</td>\n",
       "      <td>True</td>\n",
       "      <td>True</td>\n",
       "    </tr>\n",
       "  </tbody>\n",
       "</table>\n",
       "</div>"
      ],
      "text/plain": [
       "       W      X      Y      Z\n",
       "A  False   True   True  False\n",
       "B   True  False  False   True\n",
       "C  False   True   True   True\n",
       "D   True   True   True  False\n",
       "E  False   True   True   True"
      ]
     },
     "execution_count": 31,
     "metadata": {},
     "output_type": "execute_result"
    }
   ],
   "source": [
    "df > 0"
   ]
  },
  {
   "cell_type": "code",
   "execution_count": 33,
   "id": "4e3e6a15-fc91-456d-ac2d-271a1e92ea7b",
   "metadata": {},
   "outputs": [
    {
     "data": {
      "text/plain": [
       "A     True\n",
       "B    False\n",
       "C     True\n",
       "D     True\n",
       "E     True\n",
       "Name: Y, dtype: bool"
      ]
     },
     "execution_count": 33,
     "metadata": {},
     "output_type": "execute_result"
    }
   ],
   "source": [
    "df['Y'] > 0"
   ]
  },
  {
   "cell_type": "code",
   "execution_count": 32,
   "id": "7ce97554-b100-40ff-9203-40e3f5625f1a",
   "metadata": {},
   "outputs": [
    {
     "data": {
      "text/html": [
       "<div>\n",
       "<style scoped>\n",
       "    .dataframe tbody tr th:only-of-type {\n",
       "        vertical-align: middle;\n",
       "    }\n",
       "\n",
       "    .dataframe tbody tr th {\n",
       "        vertical-align: top;\n",
       "    }\n",
       "\n",
       "    .dataframe thead th {\n",
       "        text-align: right;\n",
       "    }\n",
       "</style>\n",
       "<table border=\"1\" class=\"dataframe\">\n",
       "  <thead>\n",
       "    <tr style=\"text-align: right;\">\n",
       "      <th></th>\n",
       "      <th>W</th>\n",
       "      <th>X</th>\n",
       "      <th>Y</th>\n",
       "      <th>Z</th>\n",
       "    </tr>\n",
       "  </thead>\n",
       "  <tbody>\n",
       "    <tr>\n",
       "      <th>A</th>\n",
       "      <td>NaN</td>\n",
       "      <td>0.702130</td>\n",
       "      <td>0.294014</td>\n",
       "      <td>NaN</td>\n",
       "    </tr>\n",
       "    <tr>\n",
       "      <th>B</th>\n",
       "      <td>0.527959</td>\n",
       "      <td>NaN</td>\n",
       "      <td>NaN</td>\n",
       "      <td>0.380385</td>\n",
       "    </tr>\n",
       "    <tr>\n",
       "      <th>C</th>\n",
       "      <td>NaN</td>\n",
       "      <td>0.694427</td>\n",
       "      <td>0.234183</td>\n",
       "      <td>1.577481</td>\n",
       "    </tr>\n",
       "    <tr>\n",
       "      <th>D</th>\n",
       "      <td>0.456089</td>\n",
       "      <td>0.068724</td>\n",
       "      <td>0.443505</td>\n",
       "      <td>NaN</td>\n",
       "    </tr>\n",
       "    <tr>\n",
       "      <th>E</th>\n",
       "      <td>NaN</td>\n",
       "      <td>0.549041</td>\n",
       "      <td>0.698142</td>\n",
       "      <td>0.698892</td>\n",
       "    </tr>\n",
       "  </tbody>\n",
       "</table>\n",
       "</div>"
      ],
      "text/plain": [
       "          W         X         Y         Z\n",
       "A       NaN  0.702130  0.294014       NaN\n",
       "B  0.527959       NaN       NaN  0.380385\n",
       "C       NaN  0.694427  0.234183  1.577481\n",
       "D  0.456089  0.068724  0.443505       NaN\n",
       "E       NaN  0.549041  0.698142  0.698892"
      ]
     },
     "execution_count": 32,
     "metadata": {},
     "output_type": "execute_result"
    }
   ],
   "source": [
    "df[df > 0]"
   ]
  },
  {
   "cell_type": "code",
   "execution_count": 34,
   "id": "9d8f51d1-6171-4c2d-b2f6-a141b76d117a",
   "metadata": {},
   "outputs": [
    {
     "data": {
      "text/html": [
       "<div>\n",
       "<style scoped>\n",
       "    .dataframe tbody tr th:only-of-type {\n",
       "        vertical-align: middle;\n",
       "    }\n",
       "\n",
       "    .dataframe tbody tr th {\n",
       "        vertical-align: top;\n",
       "    }\n",
       "\n",
       "    .dataframe thead th {\n",
       "        text-align: right;\n",
       "    }\n",
       "</style>\n",
       "<table border=\"1\" class=\"dataframe\">\n",
       "  <thead>\n",
       "    <tr style=\"text-align: right;\">\n",
       "      <th></th>\n",
       "      <th>W</th>\n",
       "      <th>X</th>\n",
       "      <th>Y</th>\n",
       "      <th>Z</th>\n",
       "    </tr>\n",
       "  </thead>\n",
       "  <tbody>\n",
       "    <tr>\n",
       "      <th>A</th>\n",
       "      <td>-0.325480</td>\n",
       "      <td>0.702130</td>\n",
       "      <td>0.294014</td>\n",
       "      <td>-0.736659</td>\n",
       "    </tr>\n",
       "    <tr>\n",
       "      <th>C</th>\n",
       "      <td>-1.671721</td>\n",
       "      <td>0.694427</td>\n",
       "      <td>0.234183</td>\n",
       "      <td>1.577481</td>\n",
       "    </tr>\n",
       "    <tr>\n",
       "      <th>D</th>\n",
       "      <td>0.456089</td>\n",
       "      <td>0.068724</td>\n",
       "      <td>0.443505</td>\n",
       "      <td>-0.292153</td>\n",
       "    </tr>\n",
       "    <tr>\n",
       "      <th>E</th>\n",
       "      <td>-0.763275</td>\n",
       "      <td>0.549041</td>\n",
       "      <td>0.698142</td>\n",
       "      <td>0.698892</td>\n",
       "    </tr>\n",
       "  </tbody>\n",
       "</table>\n",
       "</div>"
      ],
      "text/plain": [
       "          W         X         Y         Z\n",
       "A -0.325480  0.702130  0.294014 -0.736659\n",
       "C -1.671721  0.694427  0.234183  1.577481\n",
       "D  0.456089  0.068724  0.443505 -0.292153\n",
       "E -0.763275  0.549041  0.698142  0.698892"
      ]
     },
     "execution_count": 34,
     "metadata": {},
     "output_type": "execute_result"
    }
   ],
   "source": [
    "df[df['Y'] > 0]"
   ]
  },
  {
   "cell_type": "code",
   "execution_count": 36,
   "id": "baa857fc-646b-4b32-af53-5a1e075d50d8",
   "metadata": {},
   "outputs": [
    {
     "data": {
      "text/plain": [
       "A    False\n",
       "B    False\n",
       "C    False\n",
       "D     True\n",
       "E    False\n",
       "dtype: bool"
      ]
     },
     "execution_count": 36,
     "metadata": {},
     "output_type": "execute_result"
    }
   ],
   "source": [
    "(df['Y'] > 0) & (df['W'] > 0)"
   ]
  },
  {
   "cell_type": "code",
   "execution_count": 35,
   "id": "d651b2c7-6dfe-42ff-bfb8-9edc61b16bff",
   "metadata": {},
   "outputs": [
    {
     "data": {
      "text/html": [
       "<div>\n",
       "<style scoped>\n",
       "    .dataframe tbody tr th:only-of-type {\n",
       "        vertical-align: middle;\n",
       "    }\n",
       "\n",
       "    .dataframe tbody tr th {\n",
       "        vertical-align: top;\n",
       "    }\n",
       "\n",
       "    .dataframe thead th {\n",
       "        text-align: right;\n",
       "    }\n",
       "</style>\n",
       "<table border=\"1\" class=\"dataframe\">\n",
       "  <thead>\n",
       "    <tr style=\"text-align: right;\">\n",
       "      <th></th>\n",
       "      <th>W</th>\n",
       "      <th>X</th>\n",
       "      <th>Y</th>\n",
       "      <th>Z</th>\n",
       "    </tr>\n",
       "  </thead>\n",
       "  <tbody>\n",
       "    <tr>\n",
       "      <th>D</th>\n",
       "      <td>0.456089</td>\n",
       "      <td>0.068724</td>\n",
       "      <td>0.443505</td>\n",
       "      <td>-0.292153</td>\n",
       "    </tr>\n",
       "  </tbody>\n",
       "</table>\n",
       "</div>"
      ],
      "text/plain": [
       "          W         X         Y         Z\n",
       "D  0.456089  0.068724  0.443505 -0.292153"
      ]
     },
     "execution_count": 35,
     "metadata": {},
     "output_type": "execute_result"
    }
   ],
   "source": [
    "df[(df['Y'] > 0) & (df['W'] > 0)]"
   ]
  },
  {
   "cell_type": "code",
   "execution_count": 37,
   "id": "46c12a65-25c8-4e53-bff7-491ffdd0b108",
   "metadata": {},
   "outputs": [
    {
     "data": {
      "text/html": [
       "<div>\n",
       "<style scoped>\n",
       "    .dataframe tbody tr th:only-of-type {\n",
       "        vertical-align: middle;\n",
       "    }\n",
       "\n",
       "    .dataframe tbody tr th {\n",
       "        vertical-align: top;\n",
       "    }\n",
       "\n",
       "    .dataframe thead th {\n",
       "        text-align: right;\n",
       "    }\n",
       "</style>\n",
       "<table border=\"1\" class=\"dataframe\">\n",
       "  <thead>\n",
       "    <tr style=\"text-align: right;\">\n",
       "      <th></th>\n",
       "      <th>X</th>\n",
       "      <th>Y</th>\n",
       "      <th>Z</th>\n",
       "    </tr>\n",
       "  </thead>\n",
       "  <tbody>\n",
       "    <tr>\n",
       "      <th>A</th>\n",
       "      <td>0.702130</td>\n",
       "      <td>0.294014</td>\n",
       "      <td>-0.736659</td>\n",
       "    </tr>\n",
       "    <tr>\n",
       "      <th>B</th>\n",
       "      <td>-0.335916</td>\n",
       "      <td>-0.982385</td>\n",
       "      <td>0.380385</td>\n",
       "    </tr>\n",
       "    <tr>\n",
       "      <th>C</th>\n",
       "      <td>0.694427</td>\n",
       "      <td>0.234183</td>\n",
       "      <td>1.577481</td>\n",
       "    </tr>\n",
       "    <tr>\n",
       "      <th>D</th>\n",
       "      <td>0.068724</td>\n",
       "      <td>0.443505</td>\n",
       "      <td>-0.292153</td>\n",
       "    </tr>\n",
       "  </tbody>\n",
       "</table>\n",
       "</div>"
      ],
      "text/plain": [
       "          X         Y         Z\n",
       "A  0.702130  0.294014 -0.736659\n",
       "B -0.335916 -0.982385  0.380385\n",
       "C  0.694427  0.234183  1.577481\n",
       "D  0.068724  0.443505 -0.292153"
      ]
     },
     "execution_count": 37,
     "metadata": {},
     "output_type": "execute_result"
    }
   ],
   "source": [
    "df.iloc[:-1, 1:]"
   ]
  },
  {
   "cell_type": "code",
   "execution_count": 39,
   "id": "d71b1e26-e385-415b-8859-8d024b4bd918",
   "metadata": {},
   "outputs": [
    {
     "data": {
      "text/plain": [
       "Index(['A', 'B', 'C', 'D', 'E'], dtype='object')"
      ]
     },
     "execution_count": 39,
     "metadata": {},
     "output_type": "execute_result"
    }
   ],
   "source": [
    "df.index"
   ]
  },
  {
   "cell_type": "code",
   "execution_count": 40,
   "id": "c7973900-e336-48b2-949e-83d68ec1c1cd",
   "metadata": {},
   "outputs": [
    {
     "data": {
      "text/plain": [
       "Index(['W', 'X', 'Y', 'Z'], dtype='object')"
      ]
     },
     "execution_count": 40,
     "metadata": {},
     "output_type": "execute_result"
    }
   ],
   "source": [
    "df.columns"
   ]
  },
  {
   "cell_type": "code",
   "execution_count": 44,
   "id": "d9f46471-41fb-47a6-911b-45083f5684d2",
   "metadata": {},
   "outputs": [
    {
     "data": {
      "text/html": [
       "<div>\n",
       "<style scoped>\n",
       "    .dataframe tbody tr th:only-of-type {\n",
       "        vertical-align: middle;\n",
       "    }\n",
       "\n",
       "    .dataframe tbody tr th {\n",
       "        vertical-align: top;\n",
       "    }\n",
       "\n",
       "    .dataframe thead th {\n",
       "        text-align: right;\n",
       "    }\n",
       "</style>\n",
       "<table border=\"1\" class=\"dataframe\">\n",
       "  <thead>\n",
       "    <tr style=\"text-align: right;\">\n",
       "      <th></th>\n",
       "      <th>index</th>\n",
       "      <th>W</th>\n",
       "      <th>X</th>\n",
       "      <th>Y</th>\n",
       "      <th>Z</th>\n",
       "    </tr>\n",
       "  </thead>\n",
       "  <tbody>\n",
       "    <tr>\n",
       "      <th>0</th>\n",
       "      <td>A</td>\n",
       "      <td>-0.325480</td>\n",
       "      <td>0.702130</td>\n",
       "      <td>0.294014</td>\n",
       "      <td>-0.736659</td>\n",
       "    </tr>\n",
       "    <tr>\n",
       "      <th>1</th>\n",
       "      <td>B</td>\n",
       "      <td>0.527959</td>\n",
       "      <td>-0.335916</td>\n",
       "      <td>-0.982385</td>\n",
       "      <td>0.380385</td>\n",
       "    </tr>\n",
       "    <tr>\n",
       "      <th>2</th>\n",
       "      <td>C</td>\n",
       "      <td>-1.671721</td>\n",
       "      <td>0.694427</td>\n",
       "      <td>0.234183</td>\n",
       "      <td>1.577481</td>\n",
       "    </tr>\n",
       "    <tr>\n",
       "      <th>3</th>\n",
       "      <td>D</td>\n",
       "      <td>0.456089</td>\n",
       "      <td>0.068724</td>\n",
       "      <td>0.443505</td>\n",
       "      <td>-0.292153</td>\n",
       "    </tr>\n",
       "    <tr>\n",
       "      <th>4</th>\n",
       "      <td>E</td>\n",
       "      <td>-0.763275</td>\n",
       "      <td>0.549041</td>\n",
       "      <td>0.698142</td>\n",
       "      <td>0.698892</td>\n",
       "    </tr>\n",
       "  </tbody>\n",
       "</table>\n",
       "</div>"
      ],
      "text/plain": [
       "  index         W         X         Y         Z\n",
       "0     A -0.325480  0.702130  0.294014 -0.736659\n",
       "1     B  0.527959 -0.335916 -0.982385  0.380385\n",
       "2     C -1.671721  0.694427  0.234183  1.577481\n",
       "3     D  0.456089  0.068724  0.443505 -0.292153\n",
       "4     E -0.763275  0.549041  0.698142  0.698892"
      ]
     },
     "execution_count": 44,
     "metadata": {},
     "output_type": "execute_result"
    }
   ],
   "source": [
    "df.reset_index()"
   ]
  },
  {
   "cell_type": "code",
   "execution_count": 42,
   "id": "77ab57f9-076f-4fb1-8116-07f82f0374b6",
   "metadata": {},
   "outputs": [
    {
     "data": {
      "text/html": [
       "<div>\n",
       "<style scoped>\n",
       "    .dataframe tbody tr th:only-of-type {\n",
       "        vertical-align: middle;\n",
       "    }\n",
       "\n",
       "    .dataframe tbody tr th {\n",
       "        vertical-align: top;\n",
       "    }\n",
       "\n",
       "    .dataframe thead th {\n",
       "        text-align: right;\n",
       "    }\n",
       "</style>\n",
       "<table border=\"1\" class=\"dataframe\">\n",
       "  <thead>\n",
       "    <tr style=\"text-align: right;\">\n",
       "      <th></th>\n",
       "      <th>W</th>\n",
       "      <th>X</th>\n",
       "      <th>Y</th>\n",
       "      <th>Z</th>\n",
       "    </tr>\n",
       "  </thead>\n",
       "  <tbody>\n",
       "    <tr>\n",
       "      <th>A</th>\n",
       "      <td>-0.325480</td>\n",
       "      <td>0.702130</td>\n",
       "      <td>0.294014</td>\n",
       "      <td>-0.736659</td>\n",
       "    </tr>\n",
       "    <tr>\n",
       "      <th>B</th>\n",
       "      <td>0.527959</td>\n",
       "      <td>-0.335916</td>\n",
       "      <td>-0.982385</td>\n",
       "      <td>0.380385</td>\n",
       "    </tr>\n",
       "    <tr>\n",
       "      <th>C</th>\n",
       "      <td>-1.671721</td>\n",
       "      <td>0.694427</td>\n",
       "      <td>0.234183</td>\n",
       "      <td>1.577481</td>\n",
       "    </tr>\n",
       "    <tr>\n",
       "      <th>D</th>\n",
       "      <td>0.456089</td>\n",
       "      <td>0.068724</td>\n",
       "      <td>0.443505</td>\n",
       "      <td>-0.292153</td>\n",
       "    </tr>\n",
       "    <tr>\n",
       "      <th>E</th>\n",
       "      <td>-0.763275</td>\n",
       "      <td>0.549041</td>\n",
       "      <td>0.698142</td>\n",
       "      <td>0.698892</td>\n",
       "    </tr>\n",
       "  </tbody>\n",
       "</table>\n",
       "</div>"
      ],
      "text/plain": [
       "          W         X         Y         Z\n",
       "A -0.325480  0.702130  0.294014 -0.736659\n",
       "B  0.527959 -0.335916 -0.982385  0.380385\n",
       "C -1.671721  0.694427  0.234183  1.577481\n",
       "D  0.456089  0.068724  0.443505 -0.292153\n",
       "E -0.763275  0.549041  0.698142  0.698892"
      ]
     },
     "execution_count": 42,
     "metadata": {},
     "output_type": "execute_result"
    }
   ],
   "source": [
    "df"
   ]
  },
  {
   "cell_type": "code",
   "execution_count": 53,
   "id": "fdc7bec6-ed14-4057-941a-95f41ac4de72",
   "metadata": {},
   "outputs": [],
   "source": [
    "df.reset_index(inplace=True)"
   ]
  },
  {
   "cell_type": "code",
   "execution_count": 54,
   "id": "1fffa6d8-2e24-43be-9954-2bd34f44b4bc",
   "metadata": {},
   "outputs": [
    {
     "data": {
      "text/html": [
       "<div>\n",
       "<style scoped>\n",
       "    .dataframe tbody tr th:only-of-type {\n",
       "        vertical-align: middle;\n",
       "    }\n",
       "\n",
       "    .dataframe tbody tr th {\n",
       "        vertical-align: top;\n",
       "    }\n",
       "\n",
       "    .dataframe thead th {\n",
       "        text-align: right;\n",
       "    }\n",
       "</style>\n",
       "<table border=\"1\" class=\"dataframe\">\n",
       "  <thead>\n",
       "    <tr style=\"text-align: right;\">\n",
       "      <th></th>\n",
       "      <th>index</th>\n",
       "      <th>W</th>\n",
       "      <th>X</th>\n",
       "      <th>Y</th>\n",
       "      <th>Z</th>\n",
       "    </tr>\n",
       "  </thead>\n",
       "  <tbody>\n",
       "    <tr>\n",
       "      <th>0</th>\n",
       "      <td>A</td>\n",
       "      <td>-0.325480</td>\n",
       "      <td>0.702130</td>\n",
       "      <td>0.294014</td>\n",
       "      <td>-0.736659</td>\n",
       "    </tr>\n",
       "    <tr>\n",
       "      <th>1</th>\n",
       "      <td>B</td>\n",
       "      <td>0.527959</td>\n",
       "      <td>-0.335916</td>\n",
       "      <td>-0.982385</td>\n",
       "      <td>0.380385</td>\n",
       "    </tr>\n",
       "    <tr>\n",
       "      <th>2</th>\n",
       "      <td>C</td>\n",
       "      <td>-1.671721</td>\n",
       "      <td>0.694427</td>\n",
       "      <td>0.234183</td>\n",
       "      <td>1.577481</td>\n",
       "    </tr>\n",
       "    <tr>\n",
       "      <th>3</th>\n",
       "      <td>D</td>\n",
       "      <td>0.456089</td>\n",
       "      <td>0.068724</td>\n",
       "      <td>0.443505</td>\n",
       "      <td>-0.292153</td>\n",
       "    </tr>\n",
       "    <tr>\n",
       "      <th>4</th>\n",
       "      <td>E</td>\n",
       "      <td>-0.763275</td>\n",
       "      <td>0.549041</td>\n",
       "      <td>0.698142</td>\n",
       "      <td>0.698892</td>\n",
       "    </tr>\n",
       "  </tbody>\n",
       "</table>\n",
       "</div>"
      ],
      "text/plain": [
       "  index         W         X         Y         Z\n",
       "0     A -0.325480  0.702130  0.294014 -0.736659\n",
       "1     B  0.527959 -0.335916 -0.982385  0.380385\n",
       "2     C -1.671721  0.694427  0.234183  1.577481\n",
       "3     D  0.456089  0.068724  0.443505 -0.292153\n",
       "4     E -0.763275  0.549041  0.698142  0.698892"
      ]
     },
     "execution_count": 54,
     "metadata": {},
     "output_type": "execute_result"
    }
   ],
   "source": [
    "df"
   ]
  },
  {
   "cell_type": "code",
   "execution_count": 55,
   "id": "437001f5-c318-4eea-a78e-9b0aeab95cdd",
   "metadata": {},
   "outputs": [
    {
     "data": {
      "text/html": [
       "<div>\n",
       "<style scoped>\n",
       "    .dataframe tbody tr th:only-of-type {\n",
       "        vertical-align: middle;\n",
       "    }\n",
       "\n",
       "    .dataframe tbody tr th {\n",
       "        vertical-align: top;\n",
       "    }\n",
       "\n",
       "    .dataframe thead th {\n",
       "        text-align: right;\n",
       "    }\n",
       "</style>\n",
       "<table border=\"1\" class=\"dataframe\">\n",
       "  <thead>\n",
       "    <tr style=\"text-align: right;\">\n",
       "      <th></th>\n",
       "      <th>W</th>\n",
       "      <th>X</th>\n",
       "      <th>Y</th>\n",
       "      <th>Z</th>\n",
       "    </tr>\n",
       "    <tr>\n",
       "      <th>index</th>\n",
       "      <th></th>\n",
       "      <th></th>\n",
       "      <th></th>\n",
       "      <th></th>\n",
       "    </tr>\n",
       "  </thead>\n",
       "  <tbody>\n",
       "    <tr>\n",
       "      <th>A</th>\n",
       "      <td>-0.325480</td>\n",
       "      <td>0.702130</td>\n",
       "      <td>0.294014</td>\n",
       "      <td>-0.736659</td>\n",
       "    </tr>\n",
       "    <tr>\n",
       "      <th>B</th>\n",
       "      <td>0.527959</td>\n",
       "      <td>-0.335916</td>\n",
       "      <td>-0.982385</td>\n",
       "      <td>0.380385</td>\n",
       "    </tr>\n",
       "    <tr>\n",
       "      <th>C</th>\n",
       "      <td>-1.671721</td>\n",
       "      <td>0.694427</td>\n",
       "      <td>0.234183</td>\n",
       "      <td>1.577481</td>\n",
       "    </tr>\n",
       "    <tr>\n",
       "      <th>D</th>\n",
       "      <td>0.456089</td>\n",
       "      <td>0.068724</td>\n",
       "      <td>0.443505</td>\n",
       "      <td>-0.292153</td>\n",
       "    </tr>\n",
       "    <tr>\n",
       "      <th>E</th>\n",
       "      <td>-0.763275</td>\n",
       "      <td>0.549041</td>\n",
       "      <td>0.698142</td>\n",
       "      <td>0.698892</td>\n",
       "    </tr>\n",
       "  </tbody>\n",
       "</table>\n",
       "</div>"
      ],
      "text/plain": [
       "              W         X         Y         Z\n",
       "index                                        \n",
       "A     -0.325480  0.702130  0.294014 -0.736659\n",
       "B      0.527959 -0.335916 -0.982385  0.380385\n",
       "C     -1.671721  0.694427  0.234183  1.577481\n",
       "D      0.456089  0.068724  0.443505 -0.292153\n",
       "E     -0.763275  0.549041  0.698142  0.698892"
      ]
     },
     "execution_count": 55,
     "metadata": {},
     "output_type": "execute_result"
    }
   ],
   "source": [
    "df.set_index('index')"
   ]
  },
  {
   "cell_type": "code",
   "execution_count": 51,
   "id": "a902ba80-a37a-48db-bb63-78880667c052",
   "metadata": {},
   "outputs": [
    {
     "data": {
      "text/html": [
       "<div>\n",
       "<style scoped>\n",
       "    .dataframe tbody tr th:only-of-type {\n",
       "        vertical-align: middle;\n",
       "    }\n",
       "\n",
       "    .dataframe tbody tr th {\n",
       "        vertical-align: top;\n",
       "    }\n",
       "\n",
       "    .dataframe thead th {\n",
       "        text-align: right;\n",
       "    }\n",
       "</style>\n",
       "<table border=\"1\" class=\"dataframe\">\n",
       "  <thead>\n",
       "    <tr style=\"text-align: right;\">\n",
       "      <th></th>\n",
       "      <th>W</th>\n",
       "      <th>X</th>\n",
       "      <th>Y</th>\n",
       "      <th>Z</th>\n",
       "    </tr>\n",
       "    <tr>\n",
       "      <th>index</th>\n",
       "      <th></th>\n",
       "      <th></th>\n",
       "      <th></th>\n",
       "      <th></th>\n",
       "    </tr>\n",
       "  </thead>\n",
       "  <tbody>\n",
       "    <tr>\n",
       "      <th>A</th>\n",
       "      <td>-0.325480</td>\n",
       "      <td>0.702130</td>\n",
       "      <td>0.294014</td>\n",
       "      <td>-0.736659</td>\n",
       "    </tr>\n",
       "    <tr>\n",
       "      <th>B</th>\n",
       "      <td>0.527959</td>\n",
       "      <td>-0.335916</td>\n",
       "      <td>-0.982385</td>\n",
       "      <td>0.380385</td>\n",
       "    </tr>\n",
       "    <tr>\n",
       "      <th>C</th>\n",
       "      <td>-1.671721</td>\n",
       "      <td>0.694427</td>\n",
       "      <td>0.234183</td>\n",
       "      <td>1.577481</td>\n",
       "    </tr>\n",
       "    <tr>\n",
       "      <th>D</th>\n",
       "      <td>0.456089</td>\n",
       "      <td>0.068724</td>\n",
       "      <td>0.443505</td>\n",
       "      <td>-0.292153</td>\n",
       "    </tr>\n",
       "    <tr>\n",
       "      <th>E</th>\n",
       "      <td>-0.763275</td>\n",
       "      <td>0.549041</td>\n",
       "      <td>0.698142</td>\n",
       "      <td>0.698892</td>\n",
       "    </tr>\n",
       "  </tbody>\n",
       "</table>\n",
       "</div>"
      ],
      "text/plain": [
       "              W         X         Y         Z\n",
       "index                                        \n",
       "A     -0.325480  0.702130  0.294014 -0.736659\n",
       "B      0.527959 -0.335916 -0.982385  0.380385\n",
       "C     -1.671721  0.694427  0.234183  1.577481\n",
       "D      0.456089  0.068724  0.443505 -0.292153\n",
       "E     -0.763275  0.549041  0.698142  0.698892"
      ]
     },
     "execution_count": 51,
     "metadata": {},
     "output_type": "execute_result"
    }
   ],
   "source": [
    "df"
   ]
  },
  {
   "cell_type": "code",
   "execution_count": 56,
   "id": "45b70d28-e2dd-4d0d-b5fc-e100138568bc",
   "metadata": {},
   "outputs": [],
   "source": [
    "df.set_index('index', inplace=True)"
   ]
  },
  {
   "cell_type": "code",
   "execution_count": 57,
   "id": "20f95797-590c-409c-8199-ad7aa5ab9da0",
   "metadata": {},
   "outputs": [
    {
     "data": {
      "text/html": [
       "<div>\n",
       "<style scoped>\n",
       "    .dataframe tbody tr th:only-of-type {\n",
       "        vertical-align: middle;\n",
       "    }\n",
       "\n",
       "    .dataframe tbody tr th {\n",
       "        vertical-align: top;\n",
       "    }\n",
       "\n",
       "    .dataframe thead th {\n",
       "        text-align: right;\n",
       "    }\n",
       "</style>\n",
       "<table border=\"1\" class=\"dataframe\">\n",
       "  <thead>\n",
       "    <tr style=\"text-align: right;\">\n",
       "      <th></th>\n",
       "      <th>W</th>\n",
       "      <th>X</th>\n",
       "      <th>Y</th>\n",
       "      <th>Z</th>\n",
       "    </tr>\n",
       "    <tr>\n",
       "      <th>index</th>\n",
       "      <th></th>\n",
       "      <th></th>\n",
       "      <th></th>\n",
       "      <th></th>\n",
       "    </tr>\n",
       "  </thead>\n",
       "  <tbody>\n",
       "    <tr>\n",
       "      <th>A</th>\n",
       "      <td>-0.325480</td>\n",
       "      <td>0.702130</td>\n",
       "      <td>0.294014</td>\n",
       "      <td>-0.736659</td>\n",
       "    </tr>\n",
       "    <tr>\n",
       "      <th>B</th>\n",
       "      <td>0.527959</td>\n",
       "      <td>-0.335916</td>\n",
       "      <td>-0.982385</td>\n",
       "      <td>0.380385</td>\n",
       "    </tr>\n",
       "    <tr>\n",
       "      <th>C</th>\n",
       "      <td>-1.671721</td>\n",
       "      <td>0.694427</td>\n",
       "      <td>0.234183</td>\n",
       "      <td>1.577481</td>\n",
       "    </tr>\n",
       "    <tr>\n",
       "      <th>D</th>\n",
       "      <td>0.456089</td>\n",
       "      <td>0.068724</td>\n",
       "      <td>0.443505</td>\n",
       "      <td>-0.292153</td>\n",
       "    </tr>\n",
       "    <tr>\n",
       "      <th>E</th>\n",
       "      <td>-0.763275</td>\n",
       "      <td>0.549041</td>\n",
       "      <td>0.698142</td>\n",
       "      <td>0.698892</td>\n",
       "    </tr>\n",
       "  </tbody>\n",
       "</table>\n",
       "</div>"
      ],
      "text/plain": [
       "              W         X         Y         Z\n",
       "index                                        \n",
       "A     -0.325480  0.702130  0.294014 -0.736659\n",
       "B      0.527959 -0.335916 -0.982385  0.380385\n",
       "C     -1.671721  0.694427  0.234183  1.577481\n",
       "D      0.456089  0.068724  0.443505 -0.292153\n",
       "E     -0.763275  0.549041  0.698142  0.698892"
      ]
     },
     "execution_count": 57,
     "metadata": {},
     "output_type": "execute_result"
    }
   ],
   "source": [
    "df"
   ]
  },
  {
   "cell_type": "code",
   "execution_count": 60,
   "id": "b3f4587f-90cd-4705-9573-836f147af574",
   "metadata": {},
   "outputs": [],
   "source": [
    "novoind = 'CA NY WY OR CO'.split()"
   ]
  },
  {
   "cell_type": "code",
   "execution_count": 61,
   "id": "f57d03ea-2e6f-48b6-a1d1-2b9dd8d5e652",
   "metadata": {},
   "outputs": [
    {
     "data": {
      "text/plain": [
       "['CA', 'NY', 'WY', 'OR', 'CO']"
      ]
     },
     "execution_count": 61,
     "metadata": {},
     "output_type": "execute_result"
    }
   ],
   "source": [
    "novoind"
   ]
  },
  {
   "cell_type": "code",
   "execution_count": 62,
   "id": "38fc99e3-ea4e-47ae-90f0-242a574a5d61",
   "metadata": {},
   "outputs": [],
   "source": [
    "df['novo_index'] = novoind"
   ]
  },
  {
   "cell_type": "code",
   "execution_count": 64,
   "id": "5ecddcaa-7714-4324-937b-c7de840034db",
   "metadata": {},
   "outputs": [
    {
     "data": {
      "text/html": [
       "<div>\n",
       "<style scoped>\n",
       "    .dataframe tbody tr th:only-of-type {\n",
       "        vertical-align: middle;\n",
       "    }\n",
       "\n",
       "    .dataframe tbody tr th {\n",
       "        vertical-align: top;\n",
       "    }\n",
       "\n",
       "    .dataframe thead th {\n",
       "        text-align: right;\n",
       "    }\n",
       "</style>\n",
       "<table border=\"1\" class=\"dataframe\">\n",
       "  <thead>\n",
       "    <tr style=\"text-align: right;\">\n",
       "      <th></th>\n",
       "      <th>W</th>\n",
       "      <th>X</th>\n",
       "      <th>Y</th>\n",
       "      <th>Z</th>\n",
       "    </tr>\n",
       "    <tr>\n",
       "      <th>novo_index</th>\n",
       "      <th></th>\n",
       "      <th></th>\n",
       "      <th></th>\n",
       "      <th></th>\n",
       "    </tr>\n",
       "  </thead>\n",
       "  <tbody>\n",
       "    <tr>\n",
       "      <th>CA</th>\n",
       "      <td>-0.325480</td>\n",
       "      <td>0.702130</td>\n",
       "      <td>0.294014</td>\n",
       "      <td>-0.736659</td>\n",
       "    </tr>\n",
       "    <tr>\n",
       "      <th>NY</th>\n",
       "      <td>0.527959</td>\n",
       "      <td>-0.335916</td>\n",
       "      <td>-0.982385</td>\n",
       "      <td>0.380385</td>\n",
       "    </tr>\n",
       "    <tr>\n",
       "      <th>WY</th>\n",
       "      <td>-1.671721</td>\n",
       "      <td>0.694427</td>\n",
       "      <td>0.234183</td>\n",
       "      <td>1.577481</td>\n",
       "    </tr>\n",
       "    <tr>\n",
       "      <th>OR</th>\n",
       "      <td>0.456089</td>\n",
       "      <td>0.068724</td>\n",
       "      <td>0.443505</td>\n",
       "      <td>-0.292153</td>\n",
       "    </tr>\n",
       "    <tr>\n",
       "      <th>CO</th>\n",
       "      <td>-0.763275</td>\n",
       "      <td>0.549041</td>\n",
       "      <td>0.698142</td>\n",
       "      <td>0.698892</td>\n",
       "    </tr>\n",
       "  </tbody>\n",
       "</table>\n",
       "</div>"
      ],
      "text/plain": [
       "                   W         X         Y         Z\n",
       "novo_index                                        \n",
       "CA         -0.325480  0.702130  0.294014 -0.736659\n",
       "NY          0.527959 -0.335916 -0.982385  0.380385\n",
       "WY         -1.671721  0.694427  0.234183  1.577481\n",
       "OR          0.456089  0.068724  0.443505 -0.292153\n",
       "CO         -0.763275  0.549041  0.698142  0.698892"
      ]
     },
     "execution_count": 64,
     "metadata": {},
     "output_type": "execute_result"
    }
   ],
   "source": [
    "df.set_index('novo_index')"
   ]
  },
  {
   "cell_type": "code",
   "execution_count": 65,
   "id": "e02ad1e8-44c2-4b86-aa76-2b15b7b9248e",
   "metadata": {},
   "outputs": [
    {
     "data": {
      "text/html": [
       "<div>\n",
       "<style scoped>\n",
       "    .dataframe tbody tr th:only-of-type {\n",
       "        vertical-align: middle;\n",
       "    }\n",
       "\n",
       "    .dataframe tbody tr th {\n",
       "        vertical-align: top;\n",
       "    }\n",
       "\n",
       "    .dataframe thead th {\n",
       "        text-align: right;\n",
       "    }\n",
       "</style>\n",
       "<table border=\"1\" class=\"dataframe\">\n",
       "  <thead>\n",
       "    <tr style=\"text-align: right;\">\n",
       "      <th></th>\n",
       "      <th>index</th>\n",
       "      <th>W</th>\n",
       "      <th>X</th>\n",
       "      <th>Y</th>\n",
       "      <th>Z</th>\n",
       "    </tr>\n",
       "    <tr>\n",
       "      <th>novo_index</th>\n",
       "      <th></th>\n",
       "      <th></th>\n",
       "      <th></th>\n",
       "      <th></th>\n",
       "      <th></th>\n",
       "    </tr>\n",
       "  </thead>\n",
       "  <tbody>\n",
       "    <tr>\n",
       "      <th>CA</th>\n",
       "      <td>A</td>\n",
       "      <td>-0.325480</td>\n",
       "      <td>0.702130</td>\n",
       "      <td>0.294014</td>\n",
       "      <td>-0.736659</td>\n",
       "    </tr>\n",
       "    <tr>\n",
       "      <th>NY</th>\n",
       "      <td>B</td>\n",
       "      <td>0.527959</td>\n",
       "      <td>-0.335916</td>\n",
       "      <td>-0.982385</td>\n",
       "      <td>0.380385</td>\n",
       "    </tr>\n",
       "    <tr>\n",
       "      <th>WY</th>\n",
       "      <td>C</td>\n",
       "      <td>-1.671721</td>\n",
       "      <td>0.694427</td>\n",
       "      <td>0.234183</td>\n",
       "      <td>1.577481</td>\n",
       "    </tr>\n",
       "    <tr>\n",
       "      <th>OR</th>\n",
       "      <td>D</td>\n",
       "      <td>0.456089</td>\n",
       "      <td>0.068724</td>\n",
       "      <td>0.443505</td>\n",
       "      <td>-0.292153</td>\n",
       "    </tr>\n",
       "    <tr>\n",
       "      <th>CO</th>\n",
       "      <td>E</td>\n",
       "      <td>-0.763275</td>\n",
       "      <td>0.549041</td>\n",
       "      <td>0.698142</td>\n",
       "      <td>0.698892</td>\n",
       "    </tr>\n",
       "  </tbody>\n",
       "</table>\n",
       "</div>"
      ],
      "text/plain": [
       "           index         W         X         Y         Z\n",
       "novo_index                                              \n",
       "CA             A -0.325480  0.702130  0.294014 -0.736659\n",
       "NY             B  0.527959 -0.335916 -0.982385  0.380385\n",
       "WY             C -1.671721  0.694427  0.234183  1.577481\n",
       "OR             D  0.456089  0.068724  0.443505 -0.292153\n",
       "CO             E -0.763275  0.549041  0.698142  0.698892"
      ]
     },
     "execution_count": 65,
     "metadata": {},
     "output_type": "execute_result"
    }
   ],
   "source": [
    " df.reset_index().set_index('novo_index')"
   ]
  },
  {
   "cell_type": "code",
   "execution_count": null,
   "id": "b0f559e4-8ea3-4da4-8665-b82fd630ecf4",
   "metadata": {},
   "outputs": [],
   "source": []
  }
 ],
 "metadata": {
  "kernelspec": {
   "display_name": "Python 3 (ipykernel)",
   "language": "python",
   "name": "python3"
  },
  "language_info": {
   "codemirror_mode": {
    "name": "ipython",
    "version": 3
   },
   "file_extension": ".py",
   "mimetype": "text/x-python",
   "name": "python",
   "nbconvert_exporter": "python",
   "pygments_lexer": "ipython3",
   "version": "3.9.13"
  }
 },
 "nbformat": 4,
 "nbformat_minor": 5
}
